{
 "cells": [
  {
   "cell_type": "code",
   "execution_count": 3,
   "id": "32d8eb90",
   "metadata": {},
   "outputs": [],
   "source": [
    "# Import necessary libraries\n",
    "import pandas as pd\n",
    "import numpy as np\n",
    "\n",
    "# Display settings for better readability\n",
    "pd.set_option('display.max_columns', None)\n",
    "pd.set_option('display.width', 1000)\n"
   ]
  },
  {
   "cell_type": "code",
   "execution_count": 15,
   "id": "c31893d4",
   "metadata": {},
   "outputs": [
    {
     "data": {
      "text/html": [
       "<div>\n",
       "<style scoped>\n",
       "    .dataframe tbody tr th:only-of-type {\n",
       "        vertical-align: middle;\n",
       "    }\n",
       "\n",
       "    .dataframe tbody tr th {\n",
       "        vertical-align: top;\n",
       "    }\n",
       "\n",
       "    .dataframe thead th {\n",
       "        text-align: right;\n",
       "    }\n",
       "</style>\n",
       "<table border=\"1\" class=\"dataframe\">\n",
       "  <thead>\n",
       "    <tr style=\"text-align: right;\">\n",
       "      <th></th>\n",
       "      <th>ID</th>\n",
       "      <th>name</th>\n",
       "      <th>category</th>\n",
       "      <th>main_category</th>\n",
       "      <th>currency</th>\n",
       "      <th>deadline</th>\n",
       "      <th>goal</th>\n",
       "      <th>launched</th>\n",
       "      <th>pledged</th>\n",
       "      <th>state</th>\n",
       "      <th>backers</th>\n",
       "      <th>country</th>\n",
       "      <th>usd pledged</th>\n",
       "      <th>usd_pledged_real</th>\n",
       "      <th>usd_goal_real</th>\n",
       "    </tr>\n",
       "  </thead>\n",
       "  <tbody>\n",
       "    <tr>\n",
       "      <th>0</th>\n",
       "      <td>1000002330</td>\n",
       "      <td>The Songs of Adelaide &amp; Abullah</td>\n",
       "      <td>Poetry</td>\n",
       "      <td>Publishing</td>\n",
       "      <td>GBP</td>\n",
       "      <td>2015-10-09</td>\n",
       "      <td>1000.0</td>\n",
       "      <td>2015-08-11 12:12:28</td>\n",
       "      <td>0.0</td>\n",
       "      <td>failed</td>\n",
       "      <td>0</td>\n",
       "      <td>GB</td>\n",
       "      <td>0.0</td>\n",
       "      <td>0.0</td>\n",
       "      <td>1533.95</td>\n",
       "    </tr>\n",
       "    <tr>\n",
       "      <th>1</th>\n",
       "      <td>1000003930</td>\n",
       "      <td>Greeting From Earth: ZGAC Arts Capsule For ET</td>\n",
       "      <td>Narrative Film</td>\n",
       "      <td>Film &amp; Video</td>\n",
       "      <td>USD</td>\n",
       "      <td>2017-11-01</td>\n",
       "      <td>30000.0</td>\n",
       "      <td>2017-09-02 04:43:57</td>\n",
       "      <td>2421.0</td>\n",
       "      <td>failed</td>\n",
       "      <td>15</td>\n",
       "      <td>US</td>\n",
       "      <td>100.0</td>\n",
       "      <td>2421.0</td>\n",
       "      <td>30000.00</td>\n",
       "    </tr>\n",
       "    <tr>\n",
       "      <th>2</th>\n",
       "      <td>1000004038</td>\n",
       "      <td>Where is Hank?</td>\n",
       "      <td>Narrative Film</td>\n",
       "      <td>Film &amp; Video</td>\n",
       "      <td>USD</td>\n",
       "      <td>2013-02-26</td>\n",
       "      <td>45000.0</td>\n",
       "      <td>2013-01-12 00:20:50</td>\n",
       "      <td>220.0</td>\n",
       "      <td>failed</td>\n",
       "      <td>3</td>\n",
       "      <td>US</td>\n",
       "      <td>220.0</td>\n",
       "      <td>220.0</td>\n",
       "      <td>45000.00</td>\n",
       "    </tr>\n",
       "    <tr>\n",
       "      <th>3</th>\n",
       "      <td>1000007540</td>\n",
       "      <td>ToshiCapital Rekordz Needs Help to Complete Album</td>\n",
       "      <td>Music</td>\n",
       "      <td>Music</td>\n",
       "      <td>USD</td>\n",
       "      <td>2012-04-16</td>\n",
       "      <td>5000.0</td>\n",
       "      <td>2012-03-17 03:24:11</td>\n",
       "      <td>1.0</td>\n",
       "      <td>failed</td>\n",
       "      <td>1</td>\n",
       "      <td>US</td>\n",
       "      <td>1.0</td>\n",
       "      <td>1.0</td>\n",
       "      <td>5000.00</td>\n",
       "    </tr>\n",
       "    <tr>\n",
       "      <th>4</th>\n",
       "      <td>1000011046</td>\n",
       "      <td>Community Film Project: The Art of Neighborhoo...</td>\n",
       "      <td>Film &amp; Video</td>\n",
       "      <td>Film &amp; Video</td>\n",
       "      <td>USD</td>\n",
       "      <td>2015-08-29</td>\n",
       "      <td>19500.0</td>\n",
       "      <td>2015-07-04 08:35:03</td>\n",
       "      <td>1283.0</td>\n",
       "      <td>canceled</td>\n",
       "      <td>14</td>\n",
       "      <td>US</td>\n",
       "      <td>1283.0</td>\n",
       "      <td>1283.0</td>\n",
       "      <td>19500.00</td>\n",
       "    </tr>\n",
       "  </tbody>\n",
       "</table>\n",
       "</div>"
      ],
      "text/plain": [
       "           ID                                               name        category main_category currency    deadline     goal             launched  pledged     state  backers country  usd pledged  usd_pledged_real  usd_goal_real\n",
       "0  1000002330                    The Songs of Adelaide & Abullah          Poetry    Publishing      GBP  2015-10-09   1000.0  2015-08-11 12:12:28      0.0    failed        0      GB          0.0               0.0        1533.95\n",
       "1  1000003930      Greeting From Earth: ZGAC Arts Capsule For ET  Narrative Film  Film & Video      USD  2017-11-01  30000.0  2017-09-02 04:43:57   2421.0    failed       15      US        100.0            2421.0       30000.00\n",
       "2  1000004038                                     Where is Hank?  Narrative Film  Film & Video      USD  2013-02-26  45000.0  2013-01-12 00:20:50    220.0    failed        3      US        220.0             220.0       45000.00\n",
       "3  1000007540  ToshiCapital Rekordz Needs Help to Complete Album           Music         Music      USD  2012-04-16   5000.0  2012-03-17 03:24:11      1.0    failed        1      US          1.0               1.0        5000.00\n",
       "4  1000011046  Community Film Project: The Art of Neighborhoo...    Film & Video  Film & Video      USD  2015-08-29  19500.0  2015-07-04 08:35:03   1283.0  canceled       14      US       1283.0            1283.0       19500.00"
      ]
     },
     "execution_count": 15,
     "metadata": {},
     "output_type": "execute_result"
    }
   ],
   "source": [
    "# Load your dataset\n",
    "df = pd.read_csv(\"C:/Users/Ninad/Desktop/Project_RAG/data/crowdfunding.csv\")\n",
    "\n",
    "# Display first few rows\n",
    "df.head()"
   ]
  },
  {
   "cell_type": "code",
   "execution_count": 16,
   "id": "d59515a1",
   "metadata": {},
   "outputs": [
    {
     "name": "stdout",
     "output_type": "stream",
     "text": [
      "Dataset shape (rows, columns): (378661, 15)\n",
      "\n",
      "Columns in the dataset:\n",
      "['ID', 'name', 'category', 'main_category', 'currency', 'deadline', 'goal', 'launched', 'pledged', 'state', 'backers', 'country', 'usd pledged', 'usd_pledged_real', 'usd_goal_real']\n",
      "\n",
      "Data info:\n",
      "<class 'pandas.core.frame.DataFrame'>\n",
      "RangeIndex: 378661 entries, 0 to 378660\n",
      "Data columns (total 15 columns):\n",
      " #   Column            Non-Null Count   Dtype  \n",
      "---  ------            --------------   -----  \n",
      " 0   ID                378661 non-null  int64  \n",
      " 1   name              378657 non-null  object \n",
      " 2   category          378661 non-null  object \n",
      " 3   main_category     378661 non-null  object \n",
      " 4   currency          378661 non-null  object \n",
      " 5   deadline          378661 non-null  object \n",
      " 6   goal              378661 non-null  float64\n",
      " 7   launched          378661 non-null  object \n",
      " 8   pledged           378661 non-null  float64\n",
      " 9   state             378661 non-null  object \n",
      " 10  backers           378661 non-null  int64  \n",
      " 11  country           378661 non-null  object \n",
      " 12  usd pledged       374864 non-null  float64\n",
      " 13  usd_pledged_real  378661 non-null  float64\n",
      " 14  usd_goal_real     378661 non-null  float64\n",
      "dtypes: float64(5), int64(2), object(8)\n",
      "memory usage: 43.3+ MB\n"
     ]
    }
   ],
   "source": [
    "# Shape of the dataset\n",
    "print(\"Dataset shape (rows, columns):\", df.shape)\n",
    "\n",
    "# Column names\n",
    "print(\"\\nColumns in the dataset:\")\n",
    "print(df.columns.tolist())\n",
    "\n",
    "# Basic info about datatypes\n",
    "print(\"\\nData info:\")\n",
    "df.info()\n"
   ]
  },
  {
   "cell_type": "code",
   "execution_count": 17,
   "id": "05715229",
   "metadata": {},
   "outputs": [
    {
     "name": "stdout",
     "output_type": "stream",
     "text": [
      "\n",
      "Missing values per column:\n",
      "ID                     0\n",
      "name                   4\n",
      "category               0\n",
      "main_category          0\n",
      "currency               0\n",
      "deadline               0\n",
      "goal                   0\n",
      "launched               0\n",
      "pledged                0\n",
      "state                  0\n",
      "backers                0\n",
      "country                0\n",
      "usd pledged         3797\n",
      "usd_pledged_real       0\n",
      "usd_goal_real          0\n",
      "dtype: int64\n",
      "\n",
      "Duplicated rows: 0\n",
      "\n",
      "Duplicated rows: 0\n"
     ]
    }
   ],
   "source": [
    "# Count missing values\n",
    "print(\"\\nMissing values per column:\")\n",
    "print(df.isnull().sum())\n",
    "\n",
    "# Check for duplicated rows (if any)\n",
    "print(\"\\nDuplicated rows:\", df.duplicated().sum())\n",
    "\n"
   ]
  },
  {
   "cell_type": "code",
   "execution_count": 18,
   "id": "56fd9cce",
   "metadata": {},
   "outputs": [
    {
     "name": "stdout",
     "output_type": "stream",
     "text": [
      "\n",
      "Descriptive statistics for numeric columns:\n",
      "                 ID          goal       pledged        backers   usd pledged  usd_pledged_real  usd_goal_real\n",
      "count  3.786610e+05  3.786610e+05  3.786610e+05  378661.000000  3.748640e+05      3.786610e+05   3.786610e+05\n",
      "mean   1.074731e+09  4.908079e+04  9.682979e+03     105.617476  7.036729e+03      9.058924e+03   4.545440e+04\n",
      "std    6.190862e+08  1.183391e+06  9.563601e+04     907.185035  7.863975e+04      9.097334e+04   1.152950e+06\n",
      "min    5.971000e+03  1.000000e-02  0.000000e+00       0.000000  0.000000e+00      0.000000e+00   1.000000e-02\n",
      "25%    5.382635e+08  2.000000e+03  3.000000e+01       2.000000  1.698000e+01      3.100000e+01   2.000000e+03\n",
      "50%    1.075276e+09  5.200000e+03  6.200000e+02      12.000000  3.947200e+02      6.243300e+02   5.500000e+03\n",
      "75%    1.610149e+09  1.600000e+04  4.076000e+03      56.000000  3.034090e+03      4.050000e+03   1.550000e+04\n",
      "max    2.147476e+09  1.000000e+08  2.033899e+07  219382.000000  2.033899e+07      2.033899e+07   1.663614e+08\n",
      "\n",
      "Unique main categories: 15\n",
      "Top main categories:\n",
      "main_category\n",
      "Film & Video    63585\n",
      "Music           51918\n",
      "Publishing      39874\n",
      "Games           35231\n",
      "Technology      32569\n",
      "Design          30070\n",
      "Art             28153\n",
      "Food            24602\n",
      "Fashion         22816\n",
      "Theater         10913\n",
      "Name: count, dtype: int64\n"
     ]
    }
   ],
   "source": [
    "# Numerical summary\n",
    "print(\"\\nDescriptive statistics for numeric columns:\")\n",
    "print(df.describe())\n",
    "\n",
    "# Unique value counts for important categorical fields\n",
    "print(\"\\nUnique main categories:\", df['main_category'].nunique())\n",
    "print(\"Top main categories:\")\n",
    "print(df['main_category'].value_counts().head(10))\n"
   ]
  },
  {
   "cell_type": "code",
   "execution_count": 19,
   "id": "2c4ebf56",
   "metadata": {},
   "outputs": [
    {
     "name": "stdout",
     "output_type": "stream",
     "text": [
      "\n",
      "Project state distribution:\n",
      "state\n",
      "failed        197719\n",
      "successful    133956\n",
      "canceled       38779\n",
      "undefined       3562\n",
      "live            2799\n",
      "suspended       1846\n",
      "Name: count, dtype: int64\n",
      "\n",
      "Overall success rate: 35.38%\n"
     ]
    }
   ],
   "source": [
    "# Distribution of project states\n",
    "print(\"\\nProject state distribution:\")\n",
    "print(df['state'].value_counts())\n",
    "\n",
    "# Calculate success rate\n",
    "success_rate = (df['state'].str.lower() == 'successful').mean() * 100\n",
    "print(f\"\\nOverall success rate: {success_rate:.2f}%\")\n"
   ]
  },
  {
   "cell_type": "code",
   "execution_count": 20,
   "id": "54b4b583",
   "metadata": {},
   "outputs": [
    {
     "name": "stdout",
     "output_type": "stream",
     "text": [
      "\n",
      "Top 5 countries:\n",
      "country\n",
      "US    292627\n",
      "GB     33672\n",
      "CA     14756\n",
      "AU      7839\n",
      "DE      4171\n",
      "Name: count, dtype: int64\n"
     ]
    }
   ],
   "source": [
    "# Top 5 countries by number of projects\n",
    "print(\"\\nTop 5 countries:\")\n",
    "print(df['country'].value_counts().head(5))\n"
   ]
  },
  {
   "cell_type": "code",
   "execution_count": 21,
   "id": "fce3f87d",
   "metadata": {},
   "outputs": [
    {
     "name": "stdout",
     "output_type": "stream",
     "text": [
      "\n",
      "Sample launch and deadline values:\n",
      "              launched    deadline\n",
      "0  2015-08-11 12:12:28  2015-10-09\n",
      "1  2017-09-02 04:43:57  2017-11-01\n",
      "2  2013-01-12 00:20:50  2013-02-26\n",
      "3  2012-03-17 03:24:11  2012-04-16\n",
      "4  2015-07-04 08:35:03  2015-08-29\n",
      "\n",
      "Average campaign duration: 33.48112163650336\n",
      "\n",
      "Average campaign duration: 33.48112163650336\n"
     ]
    }
   ],
   "source": [
    "# Check date format\n",
    "print(\"\\nSample launch and deadline values:\")\n",
    "print(df[['launched', 'deadline']].head())\n",
    "\n",
    "# Convert to datetime to check durations (preview)\n",
    "df['launched'] = pd.to_datetime(df['launched'], errors='coerce')\n",
    "df['deadline'] = pd.to_datetime(df['deadline'], errors='coerce')\n",
    "df['duration_days'] = (df['deadline'] - df['launched']).dt.days\n",
    "\n",
    "print(\"\\nAverage campaign duration:\", df['duration_days'].mean())\n"
   ]
  },
  {
   "cell_type": "code",
   "execution_count": 22,
   "id": "c0e1f339",
   "metadata": {},
   "outputs": [
    {
     "name": "stdout",
     "output_type": "stream",
     "text": [
      "\n",
      "Correlation between pledged and backers: 0.72\n"
     ]
    }
   ],
   "source": [
    "# Correlation between pledged and backers\n",
    "correlation = df['pledged'].corr(df['backers'])\n",
    "print(f\"\\nCorrelation between pledged and backers: {correlation:.2f}\")\n"
   ]
  },
  {
   "cell_type": "code",
   "execution_count": 23,
   "id": "a488bc51",
   "metadata": {},
   "outputs": [
    {
     "name": "stdout",
     "output_type": "stream",
     "text": [
      "\n",
      "===== DATASET SUMMARY =====\n",
      "Rows: 378661, Columns: 16\n",
      "Unique Categories: 15\n",
      "Unique Countries: 23\n",
      "Success Rate: 35.38%\n",
      "Average Duration: 33.5 days\n"
     ]
    }
   ],
   "source": [
    "print(\"\\n===== DATASET SUMMARY =====\")\n",
    "print(f\"Rows: {df.shape[0]}, Columns: {df.shape[1]}\")\n",
    "print(f\"Unique Categories: {df['main_category'].nunique()}\")\n",
    "print(f\"Unique Countries: {df['country'].nunique()}\")\n",
    "print(f\"Success Rate: {success_rate:.2f}%\")\n",
    "print(f\"Average Duration: {df['duration_days'].mean():.1f} days\")\n"
   ]
  },
  {
   "cell_type": "code",
   "execution_count": null,
   "id": "2ef81fa7",
   "metadata": {},
   "outputs": [],
   "source": []
  }
 ],
 "metadata": {
  "kernelspec": {
   "display_name": "Python 3",
   "language": "python",
   "name": "python3"
  },
  "language_info": {
   "codemirror_mode": {
    "name": "ipython",
    "version": 3
   },
   "file_extension": ".py",
   "mimetype": "text/x-python",
   "name": "python",
   "nbconvert_exporter": "python",
   "pygments_lexer": "ipython3",
   "version": "3.13.3"
  }
 },
 "nbformat": 4,
 "nbformat_minor": 5
}
